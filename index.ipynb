{
 "cells": [
  {
   "cell_type": "markdown",
   "metadata": {},
   "source": [
    "# APIs - Cumulative Lab\n",
    "\n",
    "\n",
    "## Introduction \n",
    "\n",
    "We've seen how the Yelp API works and how to create basic visualizations using Folium. It's time to put those skills to work in order to create a working map! Taking things a step further, you'll also independently explore how to perform pagination in order to retrieve a full results set from the Yelp API.\n",
    "\n",
    "## Objectives\n",
    "\n",
    "You will be able to: \n",
    "\n",
    "* Practice using functions to organize your code\n",
    "* Use pagination to retrieve all results from an API query\n",
    "* Practice parsing data returned from an API query\n",
    "* Practice interpreting visualizations of a dataset\n",
    "* Create maps using Folium"
   ]
  },
  {
   "cell_type": "markdown",
   "metadata": {},
   "source": [
    "## Your Task: Query Yelp for All Businesses in a Category and Analyze the Results\n",
    "\n",
    "![restaurant counter with pizza](images/restaurant_counter.jpg)\n",
    "\n",
    "Photo by <a href=\"https://unsplash.com/@jordanmadrid?utm_source=unsplash&utm_medium=referral&utm_content=creditCopyText\">Jordan Madrid</a> on <a href=\"/s/photos/pizza-restaurant?utm_source=unsplash&utm_medium=referral&utm_content=creditCopyText\">Unsplash</a>"
   ]
  },
  {
   "cell_type": "markdown",
   "metadata": {},
   "source": [
    "### Overview\n",
    "\n",
    "You've now worked with some API calls, but we have yet to see how to retrieve a more complete dataset in a programmatic manner. In this lab, you will write a query of businesses on Yelp, then use *pagination* to retrieve all possible results for that query. Then you will create a summary of your findings, including a Folium map of the geographic locations of those businesses.\n",
    "\n",
    "### Technical Details\n",
    "\n",
    "Returning to the Yelp API, the [documentation](https://www.yelp.com/developers/documentation/v3/business_search) also provides us details regarding the **API limits**. These often include details about the number of requests a user is allowed to make within a specified time limit and the maximum number of results to be returned. In this case, we are told that any request has a **maximum of 50 results per request** and defaults to 20. Furthermore, any search will be limited to a **total of 1000 results**. To retrieve all 1000 of these results, we would have to page through the results piece by piece, retrieving 50 at a time. Processes such as these are often referred to as pagination.\n",
    "\n",
    "Also, be mindful of the **API** ***rate*** **limits**. You can only make **5000 requests per day** and are also can make requests too fast. Start prototyping small before running a loop that could be faulty. You can also use `time.sleep(n)` to add delays. For more details see https://www.yelp.com/developers/documentation/v3/rate_limiting.\n",
    "\n",
    "In this lab, you will define a search and then paginate over the results to retrieve all of the results. You'll then parse these responses as a list of dictionaries (for further exploration) and create a map using Folium to visualize the results geographically.\n",
    "\n",
    "### Requirements\n",
    "\n",
    "#### 1. Make the Initial Request\n",
    "\n",
    "Start by filling in your API key to make the initial request to the business search API. Investigate the structure of the response you get back and start figuring out how you will extract the relevant information.\n",
    "\n",
    "#### 2. Add Pagination\n",
    "\n",
    "Using loops and functions, collect the maximum number of results for your query from the API.\n",
    "\n",
    "#### 3. Perform Exploratory Analysis\n",
    "\n",
    "Interpret visualizations related to the price range, average rating, and number of reviews for all query results.\n",
    "\n",
    "#### 4. Create a Folium Map\n",
    "\n",
    "Using latitude and longitude data, plot the query results on an interactive map."
   ]
  },
  {
   "cell_type": "markdown",
   "metadata": {},
   "source": [
    "## 1. Make the Initial Request\n",
    "\n",
    "### Querying\n",
    "\n",
    "Start by making an initial request to the Yelp API. Your search must include at least 2 parameters: **term** and **location**. For example, you might search for pizza restaurants in NYC. The term and location is up to you but make the request below.\n",
    "\n",
    "Use the `requests` library ([documentation here](https://requests.readthedocs.io/en/master/user/quickstart/#make-a-request)).\n",
    "\n",
    "You'll also need an API key from Yelp. If you haven't done this already, go to the Yelp [Manage App page](https://www.yelp.com/developers/v3/manage_app) and create a new app (after making an account if you haven't already)."
   ]
  },
  {
   "cell_type": "code",
   "execution_count": 3,
   "metadata": {},
   "outputs": [
    {
     "data": {
      "text/plain": [
       "<Response [200]>"
      ]
     },
     "execution_count": 3,
     "metadata": {},
     "output_type": "execute_result"
    }
   ],
   "source": [
    "# Replace None with appropriate code\n",
    "\n",
    "# Import the requests library\n",
    "import requests\n",
    "\n",
    "# Get this from the \"Manage App\" page. Make sure you set them\n",
    "# back to None before pushing this to GitHub, since otherwise\n",
    "# your credentials will be compromised\n",
    "api_key = \"OX8K7pJuFkf9BMm147u3h1L3qILrgDpI-03QoW4bkZhvgBRHpmmEUjX8cFIrGaa_9w1MkGhpVR8UOIzErSDT0fIdiEe0Pbwd5PsmWmO5ede0iXYavJeONdICgzY2Y3Yx\"\n",
    "\n",
    "# These can be whatever you want! But the solution uses \"pizza\"\n",
    "# and \"New York NY\" if you want to compare your work directly\n",
    "term = \"pizza\"\n",
    "location = \"New York NY\"\n",
    "\n",
    "# Set up params for request\n",
    "url = \"https://api.yelp.com/v3/businesses/search\"\n",
    "headers = {\n",
    "    \"Authorization\": \"Bearer {}\".format(api_key)\n",
    "}\n",
    "url_params = {\n",
    "    \"term\": term.replace(\" \", \"+\"),\n",
    "    \"location\": location.replace(\" \", \"+\")\n",
    "}\n",
    "\n",
    "# Make the request using requests.get, passing in\n",
    "# url, headers=headers, and params=url_params\n",
    "response =  requests.get(url,headers=headers,params=url_params)\n",
    "\n",
    "# Confirm we got a 200 response\n",
    "response"
   ]
  },
  {
   "cell_type": "code",
   "execution_count": 4,
   "metadata": {},
   "outputs": [
    {
     "data": {
      "text/plain": [
       "dict_keys(['businesses', 'total', 'region'])"
      ]
     },
     "execution_count": 4,
     "metadata": {},
     "output_type": "execute_result"
    }
   ],
   "source": [
    "# Run this cell without changes\n",
    "\n",
    "# Get the response body in JSON format\n",
    "response_json = response.json()\n",
    "# View the keys\n",
    "response_json.keys()"
   ]
  },
  {
   "cell_type": "markdown",
   "metadata": {},
   "source": [
    "### Extracting Data\n",
    "\n",
    "Now, retrieve the value associated with the `'businesses'` key, and inspect its contents."
   ]
  },
  {
   "cell_type": "code",
   "execution_count": 14,
   "metadata": {},
   "outputs": [
    {
     "data": {
      "text/plain": [
       "[{'id': 'zj8Lq1T8KIC5zwFief15jg',\n",
       "  'alias': 'prince-street-pizza-new-york-2',\n",
       "  'name': 'Prince Street Pizza',\n",
       "  'image_url': 'https://s3-media4.fl.yelpcdn.com/bphoto/HVjttLctuIzKL3LSlsRf-w/o.jpg',\n",
       "  'is_closed': False,\n",
       "  'url': 'https://www.yelp.com/biz/prince-street-pizza-new-york-2?adjust_creative=NRmK1cEMtc7i5AWETNq9Iw&utm_campaign=yelp_api_v3&utm_medium=api_v3_business_search&utm_source=NRmK1cEMtc7i5AWETNq9Iw',\n",
       "  'review_count': 4513,\n",
       "  'categories': [{'alias': 'pizza', 'title': 'Pizza'},\n",
       "   {'alias': 'italian', 'title': 'Italian'}],\n",
       "  'rating': 4.5,\n",
       "  'coordinates': {'latitude': 40.72308755605564,\n",
       "   'longitude': -73.99453001177575},\n",
       "  'transactions': ['pickup', 'delivery'],\n",
       "  'price': '$',\n",
       "  'location': {'address1': '27 Prince St',\n",
       "   'address2': None,\n",
       "   'address3': '',\n",
       "   'city': 'New York',\n",
       "   'zip_code': '10012',\n",
       "   'country': 'US',\n",
       "   'state': 'NY',\n",
       "   'display_address': ['27 Prince St', 'New York, NY 10012']},\n",
       "  'phone': '+12129664100',\n",
       "  'display_phone': '(212) 966-4100',\n",
       "  'distance': 1961.8771417367063},\n",
       " {'id': 'ysqgdbSrezXgVwER2kQWKA',\n",
       "  'alias': 'julianas-brooklyn-3',\n",
       "  'name': \"Juliana's\",\n",
       "  'image_url': 'https://s3-media1.fl.yelpcdn.com/bphoto/OCDZ4nXoaMHF0TraV0u2-g/o.jpg',\n",
       "  'is_closed': False,\n",
       "  'url': 'https://www.yelp.com/biz/julianas-brooklyn-3?adjust_creative=NRmK1cEMtc7i5AWETNq9Iw&utm_campaign=yelp_api_v3&utm_medium=api_v3_business_search&utm_source=NRmK1cEMtc7i5AWETNq9Iw',\n",
       "  'review_count': 2528,\n",
       "  'categories': [{'alias': 'pizza', 'title': 'Pizza'}],\n",
       "  'rating': 4.5,\n",
       "  'coordinates': {'latitude': 40.70274718768062,\n",
       "   'longitude': -73.99343490196397},\n",
       "  'transactions': ['delivery'],\n",
       "  'price': '$$',\n",
       "  'location': {'address1': '19 Old Fulton St',\n",
       "   'address2': '',\n",
       "   'address3': '',\n",
       "   'city': 'Brooklyn',\n",
       "   'zip_code': '11201',\n",
       "   'country': 'US',\n",
       "   'state': 'NY',\n",
       "   'display_address': ['19 Old Fulton St', 'Brooklyn, NY 11201']},\n",
       "  'phone': '+17185966700',\n",
       "  'display_phone': '(718) 596-6700',\n",
       "  'distance': 308.56984360837544}]"
      ]
     },
     "execution_count": 14,
     "metadata": {},
     "output_type": "execute_result"
    }
   ],
   "source": [
    "# Replace None with appropriate code\n",
    "\n",
    "# Retrieve the value from response_json\n",
    "businesses = response_json[\"businesses\"]\n",
    "\n",
    "# View the first 2 records\n",
    "businesses[:2]"
   ]
  },
  {
   "cell_type": "markdown",
   "metadata": {},
   "source": [
    "### Preparing Data\n",
    "\n",
    "Write a function `prepare_data` that takes in a list of dictionaries like `businesses` and returns a copy that has been prepared for analysis:\n",
    "\n",
    "1. The `coordinates` key-value pair has been converted into two separate key-value pairs, `latitude` and `longitude`\n",
    "2. All other key-value pairs except for `name`, `review_count`, `rating`, and `price` have been dropped\n",
    "3. All dictionaries missing one of the relevant keys or containing null values have been dropped\n",
    "\n",
    "In other words, the final keys for each dictionary should be `name`, `review_count`, `rating`, `price`, `latitude`, and `longitude`.\n",
    "\n",
    "Complete the function in the cell below:"
   ]
  },
  {
   "cell_type": "code",
   "execution_count": 16,
   "metadata": {},
   "outputs": [
    {
     "data": {
      "text/plain": [
       "[{'name': 'Prince Street Pizza',\n",
       "  'review_count': 4513,\n",
       "  'rating': 4.5,\n",
       "  'price': '$',\n",
       "  'longitude': -73.99453001177575,\n",
       "  'latitude': 40.72308755605564},\n",
       " {'name': \"Juliana's\",\n",
       "  'review_count': 2528,\n",
       "  'rating': 4.5,\n",
       "  'price': '$$',\n",
       "  'longitude': -73.99343490196397,\n",
       "  'latitude': 40.70274718768062},\n",
       " {'name': \"L'industrie Pizzeria\",\n",
       "  'review_count': 774,\n",
       "  'rating': 4.5,\n",
       "  'price': '$',\n",
       "  'longitude': -73.95783,\n",
       "  'latitude': 40.71162},\n",
       " {'name': \"Lombardi's Pizza\",\n",
       "  'review_count': 6414,\n",
       "  'rating': 4.0,\n",
       "  'price': '$$',\n",
       "  'longitude': -73.9955956044561,\n",
       "  'latitude': 40.7215934960083},\n",
       " {'name': 'Rubirosa',\n",
       "  'review_count': 2768,\n",
       "  'rating': 4.5,\n",
       "  'price': '$$',\n",
       "  'longitude': -73.996233,\n",
       "  'latitude': 40.722766}]"
      ]
     },
     "execution_count": 16,
     "metadata": {},
     "output_type": "execute_result"
    }
   ],
   "source": [
    "# Replace None with appropriate code\n",
    "\n",
    "def prepare_data(data_list):\n",
    "    \"\"\"\n",
    "    This function takes in a list of dictionaries and prepares it\n",
    "    for analysis\n",
    "    \"\"\"\n",
    "    \n",
    "    # Make a new list to hold results\n",
    "    results = []\n",
    "    \n",
    "    for business_data in data_list:\n",
    "    \n",
    "        # Make a new dictionary to hold prepared data for this business\n",
    "        prepared_data = {}\n",
    "        \n",
    "        # Extract name, review_count, rating, and price key-value pairs\n",
    "        # from business_data and add to prepared_data\n",
    "        # If a key is not present in business_data, add it to prepared_data\n",
    "        # with an associated value of None\n",
    "        \n",
    "        for i in [\"name\",\"review_count\",\"rating\",\"price\"]:\n",
    "            if i in business_data.keys():\n",
    "                prepared_data[i] = business_data[i]\n",
    "            else:\n",
    "                prepared_data[i] = None\n",
    "        for i in [\"longitude\",\"latitude\"]:\n",
    "            if \"coordinates\" in business_data.keys():\n",
    "                prepared_data[i] = business_data[\"coordinates\"][i]\n",
    "            else:\n",
    "                prepared_data[i] = None\n",
    "        # Parse and add latitude and longitude columns\n",
    "        \n",
    "        \n",
    "        # Add to list if all values are present\n",
    "        if all(prepared_data.values()):\n",
    "            results.append(prepared_data)\n",
    "    \n",
    "    return results\n",
    "    \n",
    "# Test out function\n",
    "prepared_businesses = prepare_data(businesses)\n",
    "prepared_businesses[:5]"
   ]
  },
  {
   "cell_type": "markdown",
   "metadata": {},
   "source": [
    "Check that your function created the correct keys:"
   ]
  },
  {
   "cell_type": "code",
   "execution_count": 17,
   "metadata": {},
   "outputs": [],
   "source": [
    "# Run this cell without changes\n",
    "\n",
    "assert sorted(list(prepared_businesses[0].keys())) == ['latitude', 'longitude', 'name', 'price', 'rating', 'review_count']"
   ]
  },
  {
   "cell_type": "markdown",
   "metadata": {},
   "source": [
    "The following code will differ depending on your query, but we expect there to be 20 businesses in the original list, and potentially fewer in the prepared list (if any of them were missing data):"
   ]
  },
  {
   "cell_type": "code",
   "execution_count": 18,
   "metadata": {},
   "outputs": [
    {
     "name": "stdout",
     "output_type": "stream",
     "text": [
      "Original: 20\n",
      "Prepared: 19\n"
     ]
    }
   ],
   "source": [
    "# Run this cell without changes\n",
    "print(\"Original:\", len(businesses))\n",
    "print(\"Prepared:\", len(prepared_businesses))"
   ]
  },
  {
   "cell_type": "markdown",
   "metadata": {},
   "source": [
    "Great! We will reuse this function once we have retrieved the full dataset."
   ]
  },
  {
   "cell_type": "markdown",
   "metadata": {},
   "source": [
    "## 2. Add Pagination\n",
    "\n",
    "Now that you are able to extract information from one page of the response, let's figure out how to request as many pages as possible.\n",
    "\n",
    "### Determining the Total\n",
    "\n",
    "Depending on the number of total results for your query, you will either retrieve all of the results, or just the first 1000 (if there are more than 1000 total).\n",
    "\n",
    "We can find the total number of results using the `\"total\"` key:"
   ]
  },
  {
   "cell_type": "code",
   "execution_count": 19,
   "metadata": {},
   "outputs": [
    {
     "data": {
      "text/plain": [
       "12100"
      ]
     },
     "execution_count": 19,
     "metadata": {},
     "output_type": "execute_result"
    }
   ],
   "source": [
    "# Run this cell without changes\n",
    "response_json[\"total\"]"
   ]
  },
  {
   "cell_type": "markdown",
   "metadata": {},
   "source": [
    "(This is specific to the implementation of the Yelp API. Some APIs will just tell you that there are more pages, or will tell you the number of pages total, rather than the total number of results. If you're not sure, always check the documentation.)\n",
    "\n",
    "In the cell below, assign the variable `total` to either the value shown above (if it is less than 1000), or 1000."
   ]
  },
  {
   "cell_type": "code",
   "execution_count": 20,
   "metadata": {},
   "outputs": [],
   "source": [
    "# Replace None with appropriate code\n",
    "total = response_json[\"total\"]\n",
    "if total > 1000:\n",
    "    total = 1000\n",
    "    "
   ]
  },
  {
   "cell_type": "markdown",
   "metadata": {},
   "source": [
    "### Calculating the Offsets\n",
    "\n",
    "The documentation states in the parameters section:\n",
    "\n",
    "> **Name**: `limit`, **Type:** int, **Description:** Optional. Number of business results to return. By default, it will return 20. Maximum is 50.\n",
    "\n",
    "> **Name**: `offset`, **Type:** int, **Description:** Optional. Offset the list of returned business results by this amount.\n",
    "\n",
    "So, to get the most results with the fewest API calls we want to set a limit of 50 every time. If, say, we wanted to get 210 total results, that would mean:\n",
    "\n",
    "1. Offset of `0` (first 50 records)\n",
    "2. Offset of `50` (second 50 records)\n",
    "3. Offset of `100` (third 50 records)\n",
    "4. Offset of `150` (fourth 50 records)\n",
    "5. Offset of `200` (final 10 records)\n",
    "\n",
    "In the cell below, create a function `get_offsets` that takes in a total and returns a list of offsets for that total. You can assume that there is a limit of 50 every time.\n",
    "\n",
    "*Hint: you can use `range` ([documentation here](https://docs.python.org/3.3/library/stdtypes.html?highlight=range#range)) to do this in one line of code. Just make the returned result is a list.*"
   ]
  },
  {
   "cell_type": "code",
   "execution_count": 21,
   "metadata": {},
   "outputs": [],
   "source": [
    "# Replace None with appropriate code\n",
    "def get_offsets(total):\n",
    "    offs = []\n",
    "    start = 0\n",
    "    while start < total:\n",
    "        offs.append(start)\n",
    "        start+=50\n",
    "    \"\"\"\n",
    "    Get a list of offsets needed to get all pages\n",
    "    of data up until the total\n",
    "    \"\"\"\n",
    "    return offs"
   ]
  },
  {
   "cell_type": "markdown",
   "metadata": {},
   "source": [
    "Check that your function works below:"
   ]
  },
  {
   "cell_type": "code",
   "execution_count": 22,
   "metadata": {},
   "outputs": [],
   "source": [
    "# Run this cell without changes\n",
    "\n",
    "assert get_offsets(200) == [0, 50, 100, 150]\n",
    "assert get_offsets(210) == [0, 50, 100, 150, 200]"
   ]
  },
  {
   "cell_type": "markdown",
   "metadata": {},
   "source": [
    "### Putting It All Together\n",
    "\n",
    "Recall that the following variable has already been declared for you:"
   ]
  },
  {
   "cell_type": "code",
   "execution_count": 23,
   "metadata": {},
   "outputs": [
    {
     "data": {
      "text/plain": [
       "{'term': 'pizza', 'location': 'New+York+NY'}"
      ]
     },
     "execution_count": 23,
     "metadata": {},
     "output_type": "execute_result"
    }
   ],
   "source": [
    "# Run this cell without changes\n",
    "url_params"
   ]
  },
  {
   "cell_type": "markdown",
   "metadata": {},
   "source": [
    "We'll go ahead and also specify that the limit should be 50 every time:"
   ]
  },
  {
   "cell_type": "code",
   "execution_count": 24,
   "metadata": {},
   "outputs": [],
   "source": [
    "# Run this cell without changes\n",
    "url_params[\"limit\"] = 50"
   ]
  },
  {
   "cell_type": "markdown",
   "metadata": {},
   "source": [
    "In order to modify the offset, you'll need to add it to `url_params` with the key `\"offset\"` and whatever value is needed.\n",
    "\n",
    "In the cell below, write code that:\n",
    "\n",
    "* Creates an empty list for the full prepared dataset\n",
    "* Loops over all of the offsets from `get_offsets` and makes an API call each time with the specified offset\n",
    "* Calls `prepare_data` to get a cleaned version of the result of each API call\n",
    "* Extends the full prepared dataset list with each query's prepared dataset"
   ]
  },
  {
   "cell_type": "code",
   "execution_count": 29,
   "metadata": {},
   "outputs": [
    {
     "data": {
      "text/plain": [
       "782"
      ]
     },
     "execution_count": 29,
     "metadata": {},
     "output_type": "execute_result"
    }
   ],
   "source": [
    "# Replace None with appropriate code\n",
    "\n",
    "# Create an empty list for the full prepared dataset\n",
    "full_dataset = []\n",
    "\n",
    "for offset in get_offsets(total):\n",
    "    # Add or update the \"offset\" key-value pair in url_params\n",
    "    url_params[\"offset\"] = offset\n",
    "    \n",
    "    # Make the query and get the response\n",
    "    response = requests.get(url, headers=headers, params=url_params)\n",
    "    \n",
    "    # Get the response body in JSON format\n",
    "    response_json = response.json()\n",
    "    # Get the list of businesses from the response_json\n",
    "    businesses = response_json[\"businesses\"]\n",
    "    \n",
    "    # Call the prepare_data function to get a list of processed data\n",
    "    prepared_businesses = prepare_data(businesses)\n",
    "    \n",
    "    # Extend full_dataset with this list (don't append, or you'll get\n",
    "    # a list of lists instead of a flat list)\n",
    "    full_dataset.extend(prepared_businesses)\n",
    "\n",
    "# Check the length of the full dataset. It will be up to `total`,\n",
    "# potentially less if there were missing values\n",
    "len(full_dataset)"
   ]
  },
  {
   "cell_type": "code",
   "execution_count": 28,
   "metadata": {},
   "outputs": [
    {
     "data": {
      "text/plain": [
       "1000"
      ]
     },
     "execution_count": 28,
     "metadata": {},
     "output_type": "execute_result"
    }
   ],
   "source": [
    "total"
   ]
  },
  {
   "cell_type": "markdown",
   "metadata": {},
   "source": [
    "This code may take up to a few minutes to run.\n",
    "\n",
    "If you get an error trying to get the response body in JSON format, try adding `time.sleep(1)` right after the `requests.get` line, so your code will sleep for 1 second between each API call."
   ]
  },
  {
   "cell_type": "markdown",
   "metadata": {},
   "source": [
    "## 3. Perform Exploratory Analysis\n",
    "\n",
    "Take the businesses from the previous question and do an initial exploratory analysis. We have provided some plots for you to interpret:"
   ]
  },
  {
   "cell_type": "code",
   "execution_count": 30,
   "metadata": {},
   "outputs": [
    {
     "data": {
      "image/png": "[encoded data removed]",
      "text/plain": [
       "<Figure size 1152x360 with 3 Axes>"
      ]
     },
     "metadata": {
      "needs_background": "light"
     },
     "output_type": "display_data"
    }
   ],
   "source": [
    "# Run this cell without changes\n",
    "from collections import Counter\n",
    "import matplotlib.pyplot as plt\n",
    "%matplotlib inline\n",
    "\n",
    "fig, (ax1, ax2, ax3) = plt.subplots(ncols=3, figsize=(16, 5))\n",
    "\n",
    "# Plot distribution of number of reviews\n",
    "all_review_counts = [x[\"review_count\"] for x in full_dataset]\n",
    "ax1.hist(all_review_counts)\n",
    "ax1.set_title(\"Review Count Distribution\")\n",
    "ax1.set_xlabel(\"Number of Reviews\")\n",
    "ax1.set_ylabel(\"Number of Businesses\")\n",
    "\n",
    "# Plot rating distribution\n",
    "all_ratings = [x[\"rating\"] for x in full_dataset]\n",
    "rating_counter = Counter(all_ratings)\n",
    "rating_keys = sorted(rating_counter.keys())\n",
    "ax2.bar(rating_keys, [rating_counter[key] for key in rating_keys])\n",
    "ax2.set_title(\"Rating Distribution\")\n",
    "ax2.set_xlabel(\"Rating\")\n",
    "ax2.set_ylabel(\"Number of Businesses\")\n",
    "\n",
    "# Plot price distribution\n",
    "all_prices = [x[\"price\"].replace(\"$\", r\"\\$\") for x in full_dataset]\n",
    "price_counter = Counter(all_prices)\n",
    "price_keys = sorted(price_counter.keys())\n",
    "ax3.bar(price_keys, [price_counter[key] for key in price_keys])\n",
    "ax3.set_title(\"Price Distribution\")\n",
    "ax3.set_xlabel(\"Price Category\")\n",
    "ax3.set_ylabel(\"Number of Businesses\");"
   ]
  },
  {
   "cell_type": "markdown",
   "metadata": {},
   "source": [
    "Describe the distributions displayed above and interpret them in the context of your query. (Your answer may differ from the solution branch depending on your query.)"
   ]
  },
  {
   "cell_type": "code",
   "execution_count": 32,
   "metadata": {},
   "outputs": [
    {
     "data": {
      "text/plain": [
       "Counter({'\\\\$': 343, '\\\\$\\\\$': 378, '\\\\$\\\\$\\\\$': 52, '\\\\$\\\\$\\\\$\\\\$': 9})"
      ]
     },
     "execution_count": 32,
     "metadata": {},
     "output_type": "execute_result"
    }
   ],
   "source": [
    "all_prices\n",
    "price_counter"
   ]
  },
  {
   "cell_type": "code",
   "execution_count": 33,
   "metadata": {},
   "outputs": [
    {
     "data": {
      "text/plain": [
       "'\\nMost restaurants only have 0-1000 reviews, the average review is 4 stars with more below average than above.\\nThe majority of prices are $ to $$, with ~10% of prices $$$ to $$$$.\\n'"
      ]
     },
     "execution_count": 33,
     "metadata": {},
     "output_type": "execute_result"
    }
   ],
   "source": [
    "# Replace None with appropriate text\n",
    "\"\"\"\n",
    "Most restaurants only have 0-1000 reviews, the average review is 4 stars with more below average than above.\n",
    "The majority of prices are $ to $$, with ~10% of prices $$$ to $$$$.\n",
    "\"\"\""
   ]
  },
  {
   "cell_type": "markdown",
   "metadata": {},
   "source": [
    "In the cell below, we also plot the rating distributions by price. In this setup, a price of one dollar sign is \"lower price\" and everything else is \"higher price\"."
   ]
  },
  {
   "cell_type": "code",
   "execution_count": 34,
   "metadata": {},
   "outputs": [
    {
     "data": {
      "image/png": "[encoded data removed]",
      "text/plain": [
       "<Figure size 432x288 with 1 Axes>"
      ]
     },
     "metadata": {
      "needs_background": "light"
     },
     "output_type": "display_data"
    }
   ],
   "source": [
    "# Run this cell without changes\n",
    "\n",
    "higher_price = []\n",
    "lower_price = []\n",
    "for row in full_dataset:\n",
    "    if row[\"price\"] == \"$\":\n",
    "        lower_price.append(row[\"rating\"])\n",
    "    else:\n",
    "        higher_price.append(row[\"rating\"])\n",
    "        \n",
    "fig, ax = plt.subplots()\n",
    "\n",
    "ax.hist([higher_price, lower_price], label=[\"higher price\", \"lower price\"], density=True)\n",
    "\n",
    "ax.legend();"
   ]
  },
  {
   "cell_type": "markdown",
   "metadata": {},
   "source": [
    "Is a higher price associated with a higher rating? (No need for any additional math/statistics, just interpret what you see in the plot.)"
   ]
  },
  {
   "cell_type": "code",
   "execution_count": 35,
   "metadata": {},
   "outputs": [
    {
     "data": {
      "text/plain": [
       "'\\nHigher and lower priced restaurants have a similar distribution of star ratings clustered around 4.0\\nThe majority of higher priced are scored 4 - 4.5 stars, whereas the lower priced are 3.5-4 stars\\nZero lower price restaurants have 5 stars\\n'"
      ]
     },
     "execution_count": 35,
     "metadata": {},
     "output_type": "execute_result"
    }
   ],
   "source": [
    "# Replace None with appropriate text\n",
    "\"\"\"\n",
    "Higher and lower priced restaurants have a similar distribution of star ratings clustered around 4.0\n",
    "The majority of higher priced are scored 4 - 4.5 stars, whereas the lower priced are 3.5-4 stars\n",
    "Zero lower price restaurants have 5 stars\n",
    "\"\"\""
   ]
  },
  {
   "cell_type": "markdown",
   "metadata": {},
   "source": [
    "Finally, let's look at ratings vs. review counts:"
   ]
  },
  {
   "cell_type": "code",
   "execution_count": 36,
   "metadata": {},
   "outputs": [
    {
     "data": {
      "image/png": "[encoded data removed]",
      "text/plain": [
       "<Figure size 1152x360 with 1 Axes>"
      ]
     },
     "metadata": {
      "needs_background": "light"
     },
     "output_type": "display_data"
    }
   ],
   "source": [
    "# Run this cell without changes\n",
    "fig, ax = plt.subplots(figsize=(16,5))\n",
    "\n",
    "ax.scatter(all_review_counts, all_ratings, alpha=0.2)\n",
    "ax.set_xlabel(\"Number of Reviews\")\n",
    "ax.set_ylabel(\"Rating\")\n",
    "# \"zoom in\" to a subset of review counts\n",
    "ax.set_xlim(left=0, right=1000);"
   ]
  },
  {
   "cell_type": "markdown",
   "metadata": {},
   "source": [
    "Is a higher number of reviews associated with a higher rating?"
   ]
  },
  {
   "cell_type": "code",
   "execution_count": 37,
   "metadata": {},
   "outputs": [
    {
     "data": {
      "text/plain": [
       "'\\nA higher number of reviews is not associated with having a higher rating\\nHowever very few restaurants with 3 or fewer stars have a large number of reviews.\\nSimilarly, 5 star restaurants tend to also have fewer reviews\\n\\n'"
      ]
     },
     "execution_count": 37,
     "metadata": {},
     "output_type": "execute_result"
    }
   ],
   "source": [
    "# Replace None with appropriate text\n",
    "\"\"\"\n",
    "A higher number of reviews is not associated with having a higher rating\n",
    "However very few restaurants with 3 or fewer stars have a large number of reviews.\n",
    "Similarly, 5 star restaurants tend to also have fewer reviews\n",
    "\n",
    "\"\"\""
   ]
  },
  {
   "cell_type": "markdown",
   "metadata": {},
   "source": [
    "## 4. Create a Folium Map\n",
    "\n",
    "Make a map using Folium of the businesses you retrieved. Be sure to also add popups to the markers giving some basic information such as name, rating and price.\n",
    "\n",
    "You can center the map around the latitude and longitude of the first item in `full_dataset`."
   ]
  },
  {
   "cell_type": "code",
   "execution_count": 42,
   "metadata": {},
   "outputs": [
    {
     "data": {
      "text/html": [
       "<div style=\"width:100%;\"><div style=\"position:relative;width:100%;height:0;padding-bottom:60%;\"><span style=\"color:#565656\">Make this Notebook Trusted to load map: File -> Trust Notebook</span><iframe src=\"about:blank\" style=\"position:absolute;width:100%;height:100%;left:0;top:0;border:none !important;\" data-html=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 onload=\"this.contentDocument.open();this.contentDocument.write(atob(this.getAttribute('data-html')));this.contentDocument.close();\" allowfullscreen webkitallowfullscreen mozallowfullscreen></iframe></div></div>"
      ],
      "text/plain": [
       "<folium.folium.Map at 0x7fc1c205ab80>"
      ]
     },
     "execution_count": 42,
     "metadata": {},
     "output_type": "execute_result"
    }
   ],
   "source": [
    "# Replace None with appropriate code\n",
    "\n",
    "# Import the library\n",
    "import folium\n",
    "\n",
    "\n",
    "# Set up center latitude and longitude\n",
    "center_lat = 40.7128\n",
    "center_long = -74.006\n",
    "\n",
    "# Initialize map with center lat and long\n",
    "yelp_map = folium.Map([center_lat, center_long], zoom_start=12)\n",
    "\n",
    "# Adjust this limit to see more or fewer businesses\n",
    "limit=100\n",
    "\n",
    "for business in full_dataset[:limit]:\n",
    "    # Extract information about business\n",
    "    lat = business[\"latitude\"]\n",
    "    long = business[\"longitude\"]\n",
    "    name = business[\"name\"]\n",
    "    rating = business[\"rating\"]\n",
    "    price = business[\"price\"]\n",
    "    details = \"{}\\nPrice: {} Rating:{}\".format(name,price,rating)\n",
    "    \n",
    "    # Create popup with relevant details\n",
    "    popup = folium.Popup(details, parse_html=True)\n",
    "    \n",
    "    # Create marker with relevant lat/long and popup\n",
    "    marker = folium.Marker(location=[lat, long], popup=popup)\n",
    "    \n",
    "    marker.add_to(yelp_map)\n",
    "    \n",
    "yelp_map"
   ]
  },
  {
   "cell_type": "markdown",
   "metadata": {},
   "source": [
    "## Summary\n",
    "\n",
    "Nice work! In this lab, you've made multiple API calls to Yelp in order to paginate through a results set, performing some basic exploratory analysis and then creating a nice interactive map to display the results using Folium! Well done!"
   ]
  }
 ],
 "metadata": {
  "kernelspec": {
   "display_name": "Python 3",
   "language": "python",
   "name": "python3"
  },
  "language_info": {
   "codemirror_mode": {
    "name": "ipython",
    "version": 3
   },
   "file_extension": ".py",
   "mimetype": "text/x-python",
   "name": "python",
   "nbconvert_exporter": "python",
   "pygments_lexer": "ipython3",
   "version": "3.8.5"
  },
  "toc": {
   "base_numbering": 1,
   "nav_menu": {},
   "number_sections": true,
   "sideBar": true,
   "skip_h1_title": false,
   "title_cell": "Table of Contents",
   "title_sidebar": "Contents",
   "toc_cell": false,
   "toc_position": {},
   "toc_section_display": true,
   "toc_window_display": false
  }
 },
 "nbformat": 4,
 "nbformat_minor": 2
}
